{
 "cells": [
  {
   "cell_type": "code",
   "execution_count": 1,
   "metadata": {},
   "outputs": [
    {
     "name": "stdout",
     "output_type": "stream",
     "text": [
      " * Serving Flask app '__main__'\n",
      " * Debug mode: off\n"
     ]
    },
    {
     "name": "stderr",
     "output_type": "stream",
     "text": [
      "WARNING: This is a development server. Do not use it in a production deployment. Use a production WSGI server instead.\n",
      " * Running on http://127.0.0.1:8000\n",
      "Press CTRL+C to quit\n",
      "127.0.0.1 - - [04/Mar/2024 12:54:58] \"GET / HTTP/1.1\" 200 -\n",
      "127.0.0.1 - - [04/Mar/2024 12:54:58] \"GET /static/images/ab.png HTTP/1.1\" 304 -\n",
      "127.0.0.1 - - [04/Mar/2024 12:54:58] \"GET /static/style.css HTTP/1.1\" 304 -\n",
      "127.0.0.1 - - [04/Mar/2024 12:54:58] \"GET /static/images/a.jpg HTTP/1.1\" 304 -\n",
      "127.0.0.1 - - [04/Mar/2024 12:54:58] \"GET /favicon.ico HTTP/1.1\" 404 -\n"
     ]
    }
   ],
   "source": [
    "from flask import Flask, request, render_template, flash,send_from_directory\n",
    "\n",
    "\n",
    "\n",
    "\n",
    "app = Flask(__name__,static_url_path='/static')\n",
    "\n",
    "\n",
    "app.config['SECRET_KEY'] = 'supersecret'\n",
    "\n",
    "\n",
    "@app.route('/', methods=['GET', 'POST'])\n",
    "\n",
    "def model():\n",
    "    if request.method == 'POST':\n",
    "        a = (request.form.get('first_name'))\n",
    "        b= (request.form.get('last_name'))\n",
    "        import pandas as pd\n",
    "        import numpy as np\n",
    "\n",
    "        df=pd.read_csv(\"isl_wise_train_detail_03082015_v1.csv\")\n",
    "        search_source =a\n",
    "        search_destination =b\n",
    "        df = df.apply(lambda x: x.str.strip() if x.dtype == \"object\" else x)\n",
    "        s_station = df[df['Station Name'] == search_source]\n",
    "        s1_station=s_station ['Destination Station Name']\n",
    "        d_station = df[df['Destination Station Name'] == search_destination ]\n",
    "        d1_station=d_station['Station Name']\n",
    "        x=np.array(s1_station)\n",
    "\n",
    "        y=np.array(d1_station)\n",
    "        final=(set(x).intersection(y))\n",
    "        for connection in final:\n",
    "            s1 = s_station[s_station['Destination Station Name']==connection]\n",
    "            d1=d_station[d_station['Station Name']==connection]\n",
    "            \n",
    "        s1=s1.append(d1)\n",
    "        print(s1)\n",
    "        return render_template('index.html', table=s1.to_html() )\n",
    "        \n",
    "    return render_template('index.html',predicted=0)\n",
    "\n",
    "@app.route('/static/images/<path:path>',methods=['GET'])\n",
    "def serve_images(path):\n",
    "    return send_from_directory('static/images/', path)\n",
    "\n",
    "if __name__ == '__main__':\n",
    "    app.run(port=8000)"
   ]
  }
 ],
 "metadata": {
  "kernelspec": {
   "display_name": "Python 3",
   "language": "python",
   "name": "python3"
  },
  "language_info": {
   "codemirror_mode": {
    "name": "ipython",
    "version": 3
   },
   "file_extension": ".py",
   "mimetype": "text/x-python",
   "name": "python",
   "nbconvert_exporter": "python",
   "pygments_lexer": "ipython3",
   "version": "3.11.4"
  }
 },
 "nbformat": 4,
 "nbformat_minor": 2
}
